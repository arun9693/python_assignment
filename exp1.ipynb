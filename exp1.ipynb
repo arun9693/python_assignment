{
 "cells": [
  {
   "cell_type": "markdown",
   "id": "72937aea",
   "metadata": {},
   "source": [
    "Write a program to calculate the area of a triangle using Heron’s formula.\n",
    "(Hint: Heron’s formula is given as: area = sqrt(S*(S–a)*(S–b)*(S–c)))"
   ]
  },
  {
   "cell_type": "code",
   "execution_count": null,
   "id": "ef455885",
   "metadata": {},
   "outputs": [
    {
     "name": "stdout",
     "output_type": "stream",
     "text": [
      "Area of Triangle is 57.00\n"
     ]
    }
   ],
   "source": [
    "import math as m\n",
    "a = float(input(\"Enter 'a' value : \"))\n",
    "b = float(input(\"Enter 'b' value : \"))\n",
    "c = float(input(\"Enter 'c' value : \"))\n",
    "s = (a + b + c)/2\n",
    "area = m.sqrt(s*(s-a)*(s-b)*(s-c))\n",
    "print(f\"Area of Triangle is {area:.2f}\")"
   ]
  },
  {
   "cell_type": "markdown",
   "id": "1efb0ee7",
   "metadata": {},
   "source": [
    "Write a program to calculate the distance between two points"
   ]
  },
  {
   "cell_type": "code",
   "execution_count": null,
   "id": "8272ea9c",
   "metadata": {},
   "outputs": [
    {
     "name": "stdout",
     "output_type": "stream",
     "text": [
      "Distance between two points is 1.41\n"
     ]
    }
   ],
   "source": [
    "import math as m\n",
    "x1 = float(input(\"Enter 'x1' value: \"))\n",
    "x2 = float(input(\"Enter 'x2' value: \"))\n",
    "y1 = float(input(\"Enter 'y1' value: \"))\n",
    "y2 = float(input(\"Enter 'y2' value: \"))\n",
    "distance = m.sqrt((x2 - x1)**2 + (y2 - y1)**2)\n",
    "print(f\"Distance between two points is {distance:.2f}\")"
   ]
  },
  {
   "cell_type": "markdown",
   "id": "83196603",
   "metadata": {},
   "source": [
    "Write a program to calculate the area of a circle, rectangle, triangle, and square.\n"
   ]
  },
  {
   "cell_type": "code",
   "execution_count": null,
   "id": "82ef158d",
   "metadata": {},
   "outputs": [],
   "source": [
    "import math as m\n",
    "print(\"Select the choice of Shape\")\n",
    "print(\"1.Square\")\n",
    "print(\"2.Circle\")\n",
    "print(\"3.Rectangle\")\n",
    "print(\"4.Triangle\")\n",
    "choice = int(input(\"Enter the Shape:\"))\n",
    "if choice == 1:\n",
    "   side = float(input(\"Enter the side of the Square:\"))\n",
    "   print(f\"Area of the Square is {side**2:.2f} sq.units\") \n",
    "elif choice == 2:\n",
    "    radius = float(input(\"Enter the radius of the circle: \"))\n",
    "    print(f\"Area of the Triangle is {m.pi*radius**2:.2f} sq.units\")\n",
    "elif choice == 3:\n",
    "    length = float(input(\"Enter the length of Rectangle:\"))\n",
    "    width = float(input(\"Enter the width of the Rectangle:\"))\n",
    "    print(f\"Area of the Rectangle is {length*width:.2f} sq.units\")\n",
    "elif choice == 4:\n",
    "    base = float(input(\"Enter the base of the Triangle:\"))\n",
    "    height = float(input(\"Enter the height of the Triangle:\"))\n",
    "    print(f\"Area of the Triangle is {0.5 * base * height:.2f} sq.units\")\n",
    "else:\n",
    "    print(\"Enter Valid Choice\")\n",
    "    \n",
    "    "
   ]
  },
  {
   "cell_type": "markdown",
   "id": "f91311a9",
   "metadata": {},
   "source": [
    "Write a program to print the digit at one’s place of a number.\n"
   ]
  },
  {
   "cell_type": "code",
   "execution_count": null,
   "id": "c8d5e015",
   "metadata": {},
   "outputs": [],
   "source": [
    "num = int(input(\"Enter a number:\"))\n",
    "print(f\"One's Digit of the given number is {num % 10}\")"
   ]
  },
  {
   "cell_type": "markdown",
   "id": "1fc5bc27",
   "metadata": {},
   "source": [
    "Write a program to calculate the total amount of money in the piggy bank, given the coins of ₹10, ₹5, ₹2, and ₹1."
   ]
  },
  {
   "cell_type": "code",
   "execution_count": null,
   "id": "8ba9195d",
   "metadata": {},
   "outputs": [
    {
     "name": "stdout",
     "output_type": "stream",
     "text": [
      "__________PIGGY BANK____________\n",
      "The Total amount of money in the Piggy Bank is 40Rs\n"
     ]
    }
   ],
   "source": [
    "print(\"__________PIGGY BANK____________\")\n",
    "a = int(input(\"Enter number of 10rs coins: \"))\n",
    "b = int(input(\"Enter number of 5rs coins: \"))\n",
    "c = int(input(\"Enter number of 2rs coins: \"))\n",
    "d = int(input(\"Enter number of 1rs coin: \"))\n",
    "tot =(a*10)+(b*5)+(c*2)+(d*1)\n",
    "print(f\"The Total amount of money in the Piggy Bank is {tot}Rs\")"
   ]
  },
  {
   "cell_type": "markdown",
   "id": "1110a67c",
   "metadata": {},
   "source": [
    "Write a program to calculate the bill amount for an item given its quantity sold, value, discount, and tax.\n"
   ]
  },
  {
   "cell_type": "code",
   "execution_count": 4,
   "id": "2416201c",
   "metadata": {},
   "outputs": [
    {
     "name": "stdout",
     "output_type": "stream",
     "text": [
      "......BILL DETAILS......\n",
      " Quantity : 3\n",
      " Value : 4.0\n",
      " Discount : 1.44\n",
      " Tax : 0.53\n",
      " Total Bill amount : 11.09\n",
      "\n"
     ]
    }
   ],
   "source": [
    "q = int(input(\"Enter the Quantity sold:\"))\n",
    "v = float(input(\"Enter the value of the Product:\"))\n",
    "d = float(input(\"Enter the discount percentage: \"))\n",
    "t = float(input(\"Enter the tax percentage: \"))\n",
    "tot = q * v\n",
    "dis = (d/100)*tot\n",
    "value_after_d = tot - dis\n",
    "tax = (t/100)*value_after_d\n",
    "print(\"......BILL DETAILS......\")\n",
    "print(f\" Quantity : {q}\\n Value : {v}\\n Discount : {dis:.2f}\\n Tax : {tax:.2f}\\n Total Bill amount : {value_after_d + tax:.2f}\\n\")"
   ]
  },
  {
   "cell_type": "markdown",
   "id": "8f71e5f4",
   "metadata": {},
   "source": [
    "Write a python program to calculate a household's electricity bill.\n",
    "The user should enter the number of units consumed. The charges are as follows:\n",
    "For the first 100 units: ₹1.50 per unit\n",
    "For the next 100 units (101–200): ₹2.00 per unit\n",
    "For units above 200: ₹3.00 per unit\n",
    "A fixed meter charge of ₹50 is added to the bill.\n",
    "Display the total amount to be paid with a proper bill format.\n"
   ]
  },
  {
   "cell_type": "code",
   "execution_count": null,
   "id": "7a08345a",
   "metadata": {},
   "outputs": [],
   "source": [
    "units_consumed = int(input(\"Enter the number of units consumed: \"))\n",
    "if units_consumed<0:\n",
    "  print(\"Enter units in positive!\")\t\n",
    "elif units_consumed < 100:\n",
    "  amount = units_consumed * 1.50\n",
    "elif 100 >= units_consumed <= 200:\n",
    "  amount = units_consumed * 2.00\n",
    "else:\n",
    "  amount = units_consumed*3.00\n",
    "fixed_charge = 50\n",
    "total_bill_amount = amount + fixed_charge\n",
    "\n",
    "print(\"\\n\" + \"*\"*40)\n",
    "print(\"          ELECTRICITY BILL\")\n",
    "print(\"*\"*40)\n",
    "print(f\"Units Consumed : {units_consumed}\")\n",
    "print(f\"Energy Charges : ₹{amount:.2f}\")\n",
    "print(f\"Fixed Charges  : ₹{fixed_charge:.2f}\")\n",
    "print(\"*\"*40)\n",
    "print(f\"Total Amount Payable : ₹{total_bill_amount:.2f}\")\n",
    "print(\"*\"*40)\n",
    "\n"
   ]
  },
  {
   "cell_type": "markdown",
   "id": "a2502322",
   "metadata": {},
   "source": [
    "Develop a Python program that calculates an employee’s net salary. Accept input for:\n",
    "Employee name and ID\n",
    "Number of hours worked\n",
    "Hourly wage\n",
    "Calculate the gross salary and deduct 10% as tax. Display a proper salary slip with all details.\n"
   ]
  },
  {
   "cell_type": "code",
   "execution_count": 7,
   "id": "551111a6",
   "metadata": {},
   "outputs": [
    {
     "name": "stdout",
     "output_type": "stream",
     "text": [
      ".........SALARY SLIP..........\n",
      " Employee ID : 69\n",
      " Employee Name : Abdul\n",
      " Salary : 5400.0\n",
      " Tax : 540.0\n",
      " No.of hours worked : 12.0\n",
      " Wages per hour : 450.0\n",
      " Gross Salary : 4860.0\n"
     ]
    }
   ],
   "source": [
    "emp_id = int(input(\"Enter Employee's ID\"))\n",
    "emp_name = input(\"Enter Employee's name: \")\n",
    "no_of_hours_worked = float(input(\"Enter number of hours worked:\"))\n",
    "wage = float(input(\"Enter hourly wage for the employee\"))\n",
    "sal = no_of_hours_worked * wage\n",
    "tax = sal * 0.10\n",
    "gross_sal = sal - tax\n",
    "print(\".........SALARY SLIP..........\")\n",
    "print(f\" Employee ID : {emp_id}\\n Employee Name : {emp_name}\\n Salary : {sal}\\n Tax : {tax}\\n No.of hours worked : {no_of_hours_worked}\\n Wages per hour : {wage}\\n Gross Salary : {gross_sal}\")"
   ]
  },
  {
   "cell_type": "markdown",
   "id": "82218c97",
   "metadata": {},
   "source": [
    "Write a Python program to calculate the total cost of movie tickets. Accept:\n",
    "Number of tickets\n",
    "Ticket category (Silver: ₹120, Gold: ₹180, Platinum: ₹250)\n",
    "Add 18% GST to the ticket cost. Display a formatted bill.\n"
   ]
  },
  {
   "cell_type": "code",
   "execution_count": null,
   "id": "99d2b3cb",
   "metadata": {},
   "outputs": [
    {
     "name": "stdout",
     "output_type": "stream",
     "text": [
      "Invalid Choice!\n"
     ]
    }
   ],
   "source": [
    "num_of_tickets = int(input(\"Enter number of Tickets:\"))\n",
    "tier = int(input(\"Enter the Tier('1 for Siver' '2 for Gold' '3 for Platinum'):\"))\n",
    "silver = 120\n",
    "gold = 180\n",
    "platinum = 250\n",
    "if tier == 1:\n",
    "    ticket_price = silver\n",
    "    category = \"Silver\"\n",
    "elif tier == 2:\n",
    "    ticket_price = gold\n",
    "    category = \"Gold\"\n",
    "elif tier == 3:\n",
    "    ticket_price = platinum\n",
    "    category = \"Platinum\"\n",
    "else:\n",
    "    print(\"Invalid Choice!\")\n",
    "\n",
    "tot_ticket_price = num_of_tickets * ticket_price\n",
    "gst = tot_ticket_price * 0.18\n",
    "total = tot_ticket_price + gst\n",
    "if 1 <= tier <= 3: \n",
    "    print(\".........BILL DETAILS..........\")\n",
    "    print(f\" Number of Tickets : {num_of_tickets}\\n Ticket Tier : {category}\\n Ticket Price : {ticket_price}\\n GST : {gst:.2f}\\n Total Ticket Price(with 18% GST) : {total}\\n \")"
   ]
  },
  {
   "cell_type": "markdown",
   "id": "bf36480c",
   "metadata": {},
   "source": [
    "Develop a Python program that estimates travel fare based on distance and transport mode. \n",
    "Input:\n",
    "Distance (in km)\n",
    "Mode (Bus: ₹5/km, Train: ₹2/km, Cab: ₹10/km)\n",
    "Calculate and display the total fare and estimated travel time (assuming constant speeds for each mode).\n",
    "\n"
   ]
  },
  {
   "cell_type": "code",
   "execution_count": 17,
   "id": "cbdd3723",
   "metadata": {},
   "outputs": [
    {
     "name": "stdout",
     "output_type": "stream",
     "text": [
      ".........Transport Details.........\n",
      " Distance Travelled : 234.0\n",
      " Mode of Travel : Cab\n",
      " Travel time : 3 hours and 54 minutes\n",
      "\n"
     ]
    }
   ],
   "source": [
    "dist = float(input(\"Enter distance Travelled(in km):\"))\n",
    "mode_of_travel = int(input(\"Enter '1 for Bus' '2 for Train' '3 for Can:\"))\n",
    "bus = 5 #5rs/km\n",
    "train = 2 #2rs/km\n",
    "cab = 10 #10rs/km\n",
    "bus_speed = 40\n",
    "train_speed = 80\n",
    "cab_speed = 60\n",
    "if mode_of_travel == 1:\n",
    "    fare = bus\n",
    "    time = (dist / bus_speed) * 60\n",
    "    \n",
    "    category = \"Bus\"\n",
    "elif mode_of_travel == 2:\n",
    "    fare = train\n",
    "    time = (dist / train_speed) * 60\n",
    "    category = \"Train\"\n",
    "elif mode_of_travel == 3:\n",
    "    fare = train\n",
    "    time = (dist / cab_speed) * 60\n",
    "    category = \"Cab\"\n",
    "else: \n",
    "    print(\"Invalid\")\n",
    "total_fare = dist * fare\n",
    "hours = int( time // 60 )\n",
    "minutes = int(time % 60)\n",
    "if  1 <= mode_of_travel <= 3:\n",
    "    print(\".........Transport Details.........\")\n",
    "    if hours > 1:\n",
    "       print(f\" Distance Travelled : {dist}\\n Mode of Travel : {category}\\n Travel time : {hours} hours and {minutes} minutes\\n\")\n",
    "    else :\n",
    "       print(f\" Distance Travelled : {dist}\\n Mode of Travel : {category}\\n Travel time : {minutes} minutes\\n\")\n",
    "\n",
    "    "
   ]
  }
 ],
 "metadata": {
  "kernelspec": {
   "display_name": "Python 3",
   "language": "python",
   "name": "python3"
  },
  "language_info": {
   "codemirror_mode": {
    "name": "ipython",
    "version": 3
   },
   "file_extension": ".py",
   "mimetype": "text/x-python",
   "name": "python",
   "nbconvert_exporter": "python",
   "pygments_lexer": "ipython3",
   "version": "3.13.2"
  }
 },
 "nbformat": 4,
 "nbformat_minor": 5
}
