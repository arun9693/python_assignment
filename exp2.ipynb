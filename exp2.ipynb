{
 "cells": [
  {
   "cell_type": "markdown",
   "id": "839c777a",
   "metadata": {},
   "source": [
    "Develop a python program for finding the absolute value of a given number. This is always measured as positive number. This number is the distance of given number from the 0(Zero). The input value may be integer, float or complex number in Python. The absolute value of given number may be integer or float.\n"
   ]
  },
  {
   "cell_type": "code",
   "execution_count": 6,
   "id": "3588afca",
   "metadata": {},
   "outputs": [
    {
     "name": "stdout",
     "output_type": "stream",
     "text": [
      "Absolute Value : 3.1622776601683795\n"
     ]
    }
   ],
   "source": [
    "choice = int(input(\"Enter '1 for Integer' '2 for Float' '3 for Complex' : \"))\n",
    "if choice == 1:\n",
    "    n1 = int(input(\"Enter a integer:\"))\n",
    "elif choice == 2:\n",
    "    n1 = float(input(\"Enter a floating point number :\"))\n",
    "elif choice == 3:\n",
    "    n1 = complex(input(\"Enter a complex number:\"))\n",
    "else:\n",
    "    print(\"Invalid Choice!\")\n",
    "print(f\"Absolute Value : {abs(n1)}\")"
   ]
  },
  {
   "cell_type": "markdown",
   "id": "bedad59b",
   "metadata": {},
   "source": [
    "Calculate the Total selling price after levying the GST (Goods and Service Tax) as CGST and SGST on sale. CGST (Central Govt. GST), SGST (State Govt. GST) .\n",
    "        Sale amount \t\tCGST Rate \t\tSGST Rate\n",
    "         0-50000\t\t5%\t\t\t5%\n",
    "         Above 50000\t\t18%\t\t\t18%\n"
   ]
  },
  {
   "cell_type": "code",
   "execution_count": 6,
   "id": "fdf94c57",
   "metadata": {},
   "outputs": [
    {
     "name": "stdout",
     "output_type": "stream",
     "text": [
      "-------------BILL DETAILS--------------\n",
      " Selling Price : 1250.00\n",
      " CGST : 62.50\n",
      " SGST : 62.50\n",
      " Total Selling Price : 1375.00\n"
     ]
    }
   ],
   "source": [
    "selling_price = float(input(\"Enter the Selling price :\"))\n",
    "if selling_price < 0:\n",
    "    print(\"Enter Selling price  in Positive!\")\n",
    "elif selling_price <= 50000:\n",
    "    CGST = 0.05\n",
    "    SGST = 0.05\n",
    "    price1 = selling_price * CGST\n",
    "    price2 = selling_price * SGST\n",
    "    tot_selling_price = selling_price + price1 + price2\n",
    "else:\n",
    "    CGST = 0.18\n",
    "    SGST = 0.18\n",
    "    price1 = selling_price * SGST\n",
    "    price2 = selling_price * CGST \n",
    "    tot_selling_price = selling_price + price1 + price2\n",
    "print(\"-------------BILL DETAILS--------------\")\n",
    "print(f\" Selling Price : {selling_price:.2f}\\n CGST : {price1:.2f}\\n SGST : {price2:.2f}\\n Total Selling Price : {tot_selling_price:.2f}\")"
   ]
  },
  {
   "cell_type": "markdown",
   "id": "87a9fba5",
   "metadata": {},
   "source": [
    "Write a Python program to construct the following pattern, using a nested for loop.\n",
    "*\n",
    "* *\n",
    "* * *\n",
    "* * * *\n",
    "* * * * *\n",
    "* * * *\n",
    "* * *\n",
    "* *\n",
    "*"
   ]
  },
  {
   "cell_type": "code",
   "execution_count": null,
   "id": "140e0375",
   "metadata": {},
   "outputs": [],
   "source": [
    "n = 5\n",
    "for i in range(1,n+1):\n",
    "    for j in range(1,i+1):\n",
    "      print(\"* \",end = \"\")\n",
    "    print()\n",
    "for i in range(n-1,0,-1):\n",
    "    for j in range(i):\n",
    "        print(\"* \",end = \"\")\n",
    "    print()"
   ]
  },
  {
   "cell_type": "markdown",
   "id": "50bedc8c",
   "metadata": {},
   "source": [
    "Write a Python program to guess a number between 1 and 9.\n",
    "Note: The User is prompted to enter a guess. If the user guesses wrong, then the prompt appears again until the guess is correct. On a successful guess, the user will get a \"Well guessed!\" message, and the program will exit.\n"
   ]
  },
  {
   "cell_type": "code",
   "execution_count": 1,
   "id": "44478643",
   "metadata": {},
   "outputs": [
    {
     "name": "stdout",
     "output_type": "stream",
     "text": [
      "Try again\n",
      "Try again\n",
      "Try again\n",
      "Try again\n",
      "Try again\n",
      "Well Guessed!\n"
     ]
    }
   ],
   "source": [
    "import random as r\n",
    "i = r.randint(1,9)\n",
    "while i:\n",
    "    a = int(input(\"Enter a number:\"))\n",
    "    if a == i:\n",
    "        print(\"Well Guessed!\")\n",
    "        break\n",
    "    else:\n",
    "        print(\"Try again\")"
   ]
  },
  {
   "cell_type": "markdown",
   "id": "76613040",
   "metadata": {},
   "source": [
    "You have two streaming subscriptions and want to find out how much you spend each month and how much you could save if you switch to paying annually. Each subscription has a monthly cost and offers a discounted annual rate.\n",
    "Write a Python program to calculate the total monthly cost for both subscriptions, the total annual cost if you continue paying monthly, and compare this with the yearly rates you would pay if you switch to annual payments. Finally, choose the yearly payment option to see how much you could save.\n",
    "       Test Case:\n",
    "Input:\n",
    "Service 1 = $10/month\n",
    "Service 2 = $12/month\n",
    "Annual Discount for Service 1 = $100\n",
    "Annual Discount for Service 2 = $120\n",
    "Expected Output:\n",
    "Monthly Total: $22.00\n",
    "Total Annual Cost without Discount: $264.00\n",
    "Total Annual Discounted Cost: $220.00\n",
    "Total Savings: $44.00\n"
   ]
  },
  {
   "cell_type": "code",
   "execution_count": 8,
   "id": "b8a652e9",
   "metadata": {},
   "outputs": [
    {
     "name": "stdout",
     "output_type": "stream",
     "text": [
      " Monthly Total: $22\n",
      " Total Annual Cost without Discount: $264\n",
      " Total Annual Discounted Cost: $220\n",
      " Total Savings: $44\n",
      "\n"
     ]
    }
   ],
   "source": [
    "Service1 = 10\n",
    "Service2 = 12\n",
    "annual_service1 = 100\n",
    "annual_service2 = 120\n",
    "tot_mon_ = Service1 + Service2\n",
    "annual_monthly = tot_mon_ * 12\n",
    "annual_discount = annual_service1 + annual_service2\n",
    "savings_tot = annual_monthly - annual_discount\n",
    "print(f\" Monthly Total: ${tot_mon_}\\n Total Annual Cost without Discount: ${annual_monthly}\\n Total Annual Discounted Cost: ${annual_discount}\\n Total Savings: ${savings_tot}\\n\")"
   ]
  },
  {
   "cell_type": "markdown",
   "id": "afb6c3a9",
   "metadata": {},
   "source": [
    "Write a Python program that iterates through integers from 1 to 50. For each multiple of three, print \"Fizz\" instead of the number; for each multiple of five, print \"Buzz\". For numbers that are multiples of both three and five, print \"FizzBuzz\"."
   ]
  },
  {
   "cell_type": "code",
   "execution_count": 9,
   "id": "66421070",
   "metadata": {},
   "outputs": [
    {
     "name": "stdout",
     "output_type": "stream",
     "text": [
      "1\n",
      "2\n",
      "Fizz\n",
      "4\n",
      "Buzz\n",
      "Fizz\n",
      "7\n",
      "8\n",
      "Fizz\n",
      "Buzz\n",
      "11\n",
      "Fizz\n",
      "13\n",
      "14\n",
      "FizzBuzz\n",
      "16\n",
      "17\n",
      "Fizz\n",
      "19\n",
      "Buzz\n",
      "Fizz\n",
      "22\n",
      "23\n",
      "Fizz\n",
      "Buzz\n",
      "26\n",
      "Fizz\n",
      "28\n",
      "29\n",
      "FizzBuzz\n",
      "31\n",
      "32\n",
      "Fizz\n",
      "34\n",
      "Buzz\n",
      "Fizz\n",
      "37\n",
      "38\n",
      "Fizz\n",
      "Buzz\n",
      "41\n",
      "Fizz\n",
      "43\n",
      "44\n",
      "FizzBuzz\n",
      "46\n",
      "47\n",
      "Fizz\n",
      "49\n",
      "Buzz\n"
     ]
    }
   ],
   "source": [
    "for i in range(1,51):\n",
    "    if i % 3 == 0 and i % 5 == 0 :\n",
    "        print(\"FizzBuzz\")\n",
    "    elif i % 3 == 0:\n",
    "        print(\"Fizz\")\n",
    "    elif i % 5 == 0 :\n",
    "        print(\"Buzz\")\n",
    "    else :\n",
    "        print(i)"
   ]
  },
  {
   "cell_type": "markdown",
   "id": "2d1607bf",
   "metadata": {},
   "source": [
    "Write a Python program that takes two digits, m (row) and n (column) as input and generates a two-dimensional array. The element value in the i-th row and j-th column of the array should be i*j.\n",
    "Note :\n",
    "i = 0,1.., m-1\n",
    "j = 0,1, n-1.\n",
    "Test Data : Rows = 3, Columns = 4\n",
    "Expected Result : [[0, 0, 0, 0], [0, 1, 2, 3], [0, 2, 4, 6]]\n"
   ]
  },
  {
   "cell_type": "code",
   "execution_count": null,
   "id": "7b4d1555",
   "metadata": {},
   "outputs": [],
   "source": [
    "rows = int(input(\"Enter the number of rows:\"))\n",
    "columns = int(input(\"Enter th number of columns:\"))\n",
    "a = [[i * j for j in range(columns)] for i in range(rows)]\n",
    "print(a)"
   ]
  },
  {
   "cell_type": "markdown",
   "id": "c327fc4b",
   "metadata": {},
   "source": [
    "Write  a Python program for Grade Classification\n",
    "Scenario: A school system classifies grades as follows:\n",
    "A (90 and above)\n",
    "B (70 to 89)\n",
    "C (50 to 69)\n",
    "D (below 50)\n",
    "Question:  What grade will be assigned to a student who scores 85?\n",
    "If the score is 92, what grade will the program output\n"
   ]
  },
  {
   "cell_type": "code",
   "execution_count": 10,
   "id": "751e7dc6",
   "metadata": {},
   "outputs": [
    {
     "name": "stdout",
     "output_type": "stream",
     "text": [
      "The Grade for the score 85 : B\n",
      "The Grade for the score 92 : A\n"
     ]
    }
   ],
   "source": [
    "def grade(score):\n",
    "    if score >= 90:\n",
    "        return \"A\"\n",
    "    elif score >= 70:\n",
    "        return \"B\"\n",
    "    elif score >= 50:\n",
    "        return \"C\"\n",
    "    else:\n",
    "        return \"D\"\n",
    "score1 = 85\n",
    "score2 = 92\n",
    "print(f\"The Grade for the score {score1} : {grade(score1)}\")\n",
    "print(f\"The Grade for the score {score2} : {grade(score2)}\")"
   ]
  },
  {
   "cell_type": "markdown",
   "id": "9c6d194f",
   "metadata": {},
   "source": [
    "Write a program that prints the multiplication table of a user-entered number up to 10.\n"
   ]
  },
  {
   "cell_type": "code",
   "execution_count": null,
   "id": "e1ded6bd",
   "metadata": {},
   "outputs": [],
   "source": [
    "num = int(input(\"Enter a Number:\"))\n",
    "if num < 0:\n",
    "    print(\"Enter a Positive Number!\")\n",
    "elif num <= 10:\n",
    "    for i in range(1,11):\n",
    "        print(f\"{num} x { i } = {num * i}\\n\")\n",
    "else:\n",
    "    print(\"Enter number within 10!\")"
   ]
  },
  {
   "cell_type": "markdown",
   "id": "89668d03",
   "metadata": {},
   "source": [
    "Write a Python program to check the validity of passwords input by users.\n",
    "Validation :\n",
    "At least 1 letter between [a-z] and 1 letter between [A-Z].\n",
    "At least 1 number between [0-9].\n",
    "At least 1 character from [$#@].\n",
    "Minimum length 6 characters.\n",
    "Maximum length 16 characters.\n",
    "\n",
    "\n"
   ]
  },
  {
   "cell_type": "code",
   "execution_count": 14,
   "id": "5736efaa",
   "metadata": {},
   "outputs": [
    {
     "name": "stdout",
     "output_type": "stream",
     "text": [
      "True\n"
     ]
    }
   ],
   "source": [
    "def _password_checker(password):\n",
    "    if len(password) < 6 or len(password) > 16:\n",
    "        return False\n",
    "    _lower = False\n",
    "    _upper = False\n",
    "    _num =  False\n",
    "    _special = False\n",
    "    for char in password:\n",
    "        if char.isupper():\n",
    "            _upper = True\n",
    "        elif char.islower():\n",
    "            _lower = True\n",
    "        elif char.isdigit():\n",
    "            _num = True\n",
    "        elif char in \"@#$\":\n",
    "            _special = True\n",
    "    if _upper and _lower and _num and _special :\n",
    "        return True\n",
    "    return False\n",
    "_pass = input(\"Enter a strong passsword:\")\n",
    "    \n",
    "print(_password_checker(_pass))\n",
    "    "
   ]
  }
 ],
 "metadata": {
  "kernelspec": {
   "display_name": "Python 3",
   "language": "python",
   "name": "python3"
  },
  "language_info": {
   "codemirror_mode": {
    "name": "ipython",
    "version": 3
   },
   "file_extension": ".py",
   "mimetype": "text/x-python",
   "name": "python",
   "nbconvert_exporter": "python",
   "pygments_lexer": "ipython3",
   "version": "3.13.2"
  }
 },
 "nbformat": 4,
 "nbformat_minor": 5
}
