{
 "cells": [
  {
   "cell_type": "markdown",
   "id": "91f30a18",
   "metadata": {},
   "source": [
    "Movie Ticket Pricing\n",
    "You're writing a function to calculate movie ticket prices based on age.\t\n",
    "Kids under 12: $5\n",
    "Seniors (60+): $6\n",
    "Everyone else: $10\n",
    "Question:\n",
    " Write a function calculate_ticket_price(age) that returns the correct ticket price.\n",
    "Sample Input:\n",
    "calculate_ticket_price(8)      # Output: 5  \n",
    "calculate_ticket_price(30)     # Output: 10  \n",
    "calculate_ticket_price(65)     # Output: 6"
   ]
  },
  {
   "cell_type": "code",
   "execution_count": null,
   "id": "3a8dfc89",
   "metadata": {},
   "outputs": [],
   "source": [
    "def calculate_ticket_price(age):\n",
    "   if age < 0:\n",
    "        return \"Enter age in Positive!\"\n",
    "   elif age <= 12 :\n",
    "        return \"Ticket price for Kids is $5\"\n",
    "   elif age >= 60:\n",
    "        return \"Ticket price for Seniors is $6\"\n",
    "   else:\n",
    "        return \"Ticket Price for Others is $10\"\n",
    "print(calculate_ticket_price(8))\n",
    "print(calculate_ticket_price(30))\n",
    "print(calculate_ticket_price(65))"
   ]
  },
  {
   "cell_type": "markdown",
   "id": "92b933bc",
   "metadata": {},
   "source": [
    "You’re building a weather app and need a function to convert temperatures from Celsius to Fahrenheit\n",
    "Question:\n",
    " Write a function celsius_to_fahrenheit(celsius) that returns the Fahrenheit equivalent.\n",
    "Sample Input:\n",
    "celsius_to_fahrenheit(0)       # Output: 32.0  \n",
    "celsius_to_fahrenheit(37)      # Output: 98.6\n"
   ]
  },
  {
   "cell_type": "code",
   "execution_count": null,
   "id": "8b28a810",
   "metadata": {},
   "outputs": [],
   "source": [
    "def celsius_to_fahrenheit(celsius):\n",
    "    return f\"Celsius to Fahrenheit : {(celsius * 9/5) + 32}\"\n",
    "print(celsius_to_fahrenheit(0))\n",
    "print(celsius_to_fahrenheit(37))"
   ]
  },
  {
   "cell_type": "markdown",
   "id": "dfb90875",
   "metadata": {},
   "source": [
    "You're creating a grading system. Given a score (0–100), return a letter grade:\t\n",
    "A: 90+\t\n",
    "B: 80–89\t\n",
    "C: 70–79\n",
    "D: 60–69\n",
    "F: below 60\n",
    "Question:\n",
    " Write a function get_grade(score) that returns the letter grade.\n",
    "Sample Input:\n",
    "get_grade(85)        # Output: \"B\"  \n",
    "get_grade(59)        # Output: \"F\n"
   ]
  },
  {
   "cell_type": "code",
   "execution_count": null,
   "id": "27d0f2d1",
   "metadata": {},
   "outputs": [],
   "source": [
    "def get_grade(score):\n",
    "    marks = score//10\n",
    "    match marks :\n",
    "        case 9 | 10:\n",
    "            return \"Grade : A\"\n",
    "        case 8:\n",
    "            return \"Grade : B\"\n",
    "        case 7:\n",
    "            return \"Grade : C\"\n",
    "        case 6:\n",
    "            return \"Grade : D\"\n",
    "        case 5:\n",
    "            return \"Grade : F\"\n",
    "        case _:\n",
    "            return \"Give Score within 100!\"\n",
    "print(get_grade(86))\n",
    "print(get_grade(59))"
   ]
  },
  {
   "cell_type": "markdown",
   "id": "863bea5d",
   "metadata": {},
   "source": [
    "In a text editing app, users want a function that takes a sentence and reverses each word, keeping the word order the same.\n",
    "Question:\n",
    "\t Write a function reverse_words(sentence) that reverses the characters of each word.\n",
    "Sample Input:\n",
    "reverse_words(\"hello world\")    # Output: \"olleh dlrow\"  \n",
    "reverse_words(\"python is fun\")  # Output: \"nohtyp si nuf\"\n"
   ]
  },
  {
   "cell_type": "code",
   "execution_count": null,
   "id": "a8be0f35",
   "metadata": {},
   "outputs": [],
   "source": [
    "def reverse_words(sentence):\n",
    "    words = sentence.split()\n",
    "    a = [word[::-1] for word in words]\n",
    "    b = \" \".join(a)\n",
    "    return b\n",
    "print(reverse_words(\"hello world\"))\n",
    "print(reverse_words(\"python is fun\"))"
   ]
  },
  {
   "cell_type": "markdown",
   "id": "01e8820f",
   "metadata": {},
   "source": [
    "Shipping Cost Calculator :A  company charges shipping based on weight:\n",
    "Up to 2kg: $5\n",
    "2–5kg: $10\n",
    "5kg and above: $15\n",
    "Question:\n",
    "Write a function calculate_shipping(weight) that returns the shipping cost.\n",
    "Sample Input:\n",
    "calculate_shipping(1.5)     # Output: 5  \n",
    "calculate_shipping(3.2)     # Output: 10  \n",
    "calculate_shipping(7.0)     # Output: 15\n"
   ]
  },
  {
   "cell_type": "code",
   "execution_count": 1,
   "id": "2c0545d3",
   "metadata": {},
   "outputs": [
    {
     "name": "stdout",
     "output_type": "stream",
     "text": [
      "$5\n"
     ]
    }
   ],
   "source": [
    "def calculate_shipping(weight):\n",
    "    if weight < 0 or weight == 0:\n",
    "        return \"Enter weight in Positive\"\n",
    "    elif weight < 2:\n",
    "        return \"$5\"\n",
    "    elif weight == 2 or weight < 5:\n",
    "        return \"$10\"\n",
    "    else:\n",
    "        return \"$15\"\n",
    "print(calculate_shipping(1))\n",
    "        "
   ]
  },
  {
   "cell_type": "markdown",
   "id": "c7ee7b28",
   "metadata": {},
   "source": [
    "Password Strength Checker\n",
    "Scenario: You're building a signup form. The password must be at least 8 characters long and contain at least one uppercase letter, one lowercase letter, and one digit.\n",
    "Question:\n",
    "Write a function is_strong_password(password) that returns True if the password is strong, otherwise False.\n",
    "Sample Input:\n",
    "is_strong_password(\"Password123\")     # Output: True"
   ]
  },
  {
   "cell_type": "code",
   "execution_count": null,
   "id": "395de3a2",
   "metadata": {},
   "outputs": [],
   "source": [
    "def is_strong_password(password):\n",
    "   a = any(c.isupper() for c in password)\n",
    "   b = any(c.islower() for c in password)\n",
    "   c = any(c.isdigit() for c in password)\n",
    "   return a and b and c\n",
    "       \n",
    "print(is_strong_password(\"Pass123\"))\n"
   ]
  }
 ],
 "metadata": {
  "kernelspec": {
   "display_name": "Python 3",
   "language": "python",
   "name": "python3"
  },
  "language_info": {
   "codemirror_mode": {
    "name": "ipython",
    "version": 3
   },
   "file_extension": ".py",
   "mimetype": "text/x-python",
   "name": "python",
   "nbconvert_exporter": "python",
   "pygments_lexer": "ipython3",
   "version": "3.13.2"
  }
 },
 "nbformat": 4,
 "nbformat_minor": 5
}
